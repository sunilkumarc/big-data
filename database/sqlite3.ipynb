{
 "metadata": {
  "name": "sqlite3"
 },
 "nbformat": 3,
 "nbformat_minor": 0,
 "worksheets": [
  {
   "cells": [
    {
     "cell_type": "code",
     "collapsed": false,
     "input": [
      "import sqlite3\n",
      "import sys\n",
      "\n",
      "con = None\n",
      "\n",
      "try:\n",
      "    con = sqlite3.connect('database.db')\n",
      "    query = con.cursor()    \n",
      "    query.execute('SELECT * from locations')\n",
      "    data = cur.fetchall()\n",
      "    for column in data:\n",
      "        print \"%s\\t%s\" % (column[0], [column[2], column[3]])\n",
      "        \n",
      "except sqlite3.Error, e:\n",
      "    print \"Error %s:\" % e.args[0]\n",
      "    sys.exit(1)\n",
      "    \n",
      "finally:\n",
      "    #print 'working'\n",
      "    pass\n",
      "\n"
     ],
     "language": "python",
     "metadata": {},
     "outputs": [
      {
       "output_type": "stream",
       "stream": "stdout",
       "text": [
        "working\n"
       ]
      }
     ],
     "prompt_number": 31
    }
   ],
   "metadata": {}
  }
 ]
}