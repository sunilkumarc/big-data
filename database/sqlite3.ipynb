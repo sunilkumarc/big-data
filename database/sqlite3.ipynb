{
 "metadata": {
  "name": "sqlite3"
 },
 "nbformat": 3,
 "nbformat_minor": 0,
 "worksheets": [
  {
   "cells": [
    {
     "cell_type": "code",
     "collapsed": false,
     "input": [
      "import sqlite3\n",
      "import sys\n",
      "\n",
      "connection = None\n",
      "\n",
      "try:\n",
      "    connection = sqlite3.connect('database.db')\n",
      "    query = connection.cursor()    \n",
      "    query.execute('SELECT * from locations')\n",
      "    data = query.fetchall()\n",
      "    for column in data:\n",
      "        print \"%s\\t%s\" % (column[0], [column[2], column[3]])\n",
      "        \n",
      "except sqlite3.Error, e:\n",
      "    print \"Error %s:\" % e.args[0]\n",
      "    sys.exit(1)\n",
      "    \n",
      "finally:\n",
      "    #print 'working'\n",
      "    pass\n",
      "\n"
     ],
     "language": "python",
     "metadata": {},
     "outputs": [
      {
       "output_type": "stream",
       "stream": "stdout",
       "text": [
        "sorab\t[10.22, 50.1]\n",
        "bangalore\t[10.22, 30.1]\n",
        "shimoga\t[40.22, 30.1]\n"
       ]
      }
     ],
     "prompt_number": 37
    }
   ],
   "metadata": {}
  }
 ]
}